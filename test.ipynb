{
 "cells": [
  {
   "cell_type": "code",
   "execution_count": 32,
   "metadata": {},
   "outputs": [
    {
     "name": "stdout",
     "output_type": "stream",
     "text": [
      "An error occurred: 'NextPaginationToken'\n"
     ]
    }
   ],
   "source": [
    "import requests\n",
    "import os\n",
    "from importlib.machinery import SourceFileLoader\n",
    "import pandas as pd\n",
    "\n",
    "\n",
    "try:\n",
    "    config = SourceFileLoader(\"config\", \"config.py\").load_module()\n",
    "\n",
    "    bungie_api_key = config.BUNGIE_API_KEY\n",
    "    endpoint = \"https://www.bungie.net/Platform/Content/Rss/NewsArticles/{pageToken}/\"\n",
    "    page_token = \"0\"\n",
    "    include_body = True\n",
    "    headers = {\n",
    "        \"X-API-Key\": bungie_api_key\n",
    "    }\n",
    "    params = {\n",
    "        \"includebody\": include_body\n",
    "    }\n",
    "\n",
    "    results = []\n",
    "\n",
    "    while page_token is not None:\n",
    "        response = requests.get(endpoint.format(pageToken=page_token), headers=headers, params=params)\n",
    "\n",
    "        if response.status_code == 200:\n",
    "            json_response = response.json()\n",
    "            if 'NewsArticles' in json_response['Response']:\n",
    "                results.extend(json_response['Response']['NewsArticles'])\n",
    "            else:\n",
    "                print(\"No NewsArticles found in the response.\")\n",
    "                break\n",
    "            page_token = json_response['Response']['NextPaginationToken']\n",
    "        else:\n",
    "            print(\"Error:\", response.status_code)\n",
    "            print(\"Response:\", response.text)\n",
    "            break\n",
    "except Exception as e:\n",
    "    print(\"An error occurred:\", str(e))"
   ]
  },
  {
   "cell_type": "code",
   "execution_count": 33,
   "metadata": {},
   "outputs": [],
   "source": [
    "# Desired keys\n",
    "keys = ['Title', 'Link', 'PubDate', 'Description']\n",
    "\n",
    "# Filtering the results\n",
    "filtered_results = [{key: item[key] for key in keys} for item in results]\n",
    "\n",
    "# Convert the filtered list into a DataFrame\n",
    "df = pd.DataFrame(filtered_results)"
   ]
  },
  {
   "cell_type": "code",
   "execution_count": 34,
   "metadata": {},
   "outputs": [],
   "source": [
    "import re\n",
    "pattern = r'Update|Hotfix'\n",
    "df = df[df['Title'].str.contains(pattern, regex=True, flags=re.IGNORECASE)]\n",
    "df = df.iloc[0:25].reset_index()\n",
    "# Print the filtered DataFrame\n"
   ]
  },
  {
   "cell_type": "code",
   "execution_count": 35,
   "metadata": {},
   "outputs": [],
   "source": [
    "base_url = \"https://www.bungie.net\"\n",
    "\n",
    "# Prepending the base URL to each 'Link' in the DataFrame\n",
    "df['Link'] = df['Link'].apply(lambda x: base_url + x)"
   ]
  },
  {
   "cell_type": "code",
   "execution_count": 37,
   "metadata": {},
   "outputs": [
    {
     "data": {
      "text/plain": [
       "'https://www.bungie.net/7/en/News/Article/update_patch_notes_7302'"
      ]
     },
     "execution_count": 37,
     "metadata": {},
     "output_type": "execute_result"
    }
   ],
   "source": [
    "df.iloc[0]['Link']"
   ]
  }
 ],
 "metadata": {
  "kernelspec": {
   "display_name": "Python 3",
   "language": "python",
   "name": "python3"
  },
  "language_info": {
   "codemirror_mode": {
    "name": "ipython",
    "version": 3
   },
   "file_extension": ".py",
   "mimetype": "text/x-python",
   "name": "python",
   "nbconvert_exporter": "python",
   "pygments_lexer": "ipython3",
   "version": "3.11.3"
  }
 },
 "nbformat": 4,
 "nbformat_minor": 2
}
